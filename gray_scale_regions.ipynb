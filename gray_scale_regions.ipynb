{
 "cells": [
  {
   "cell_type": "markdown",
   "id": "aa22d1d0",
   "metadata": {},
   "source": [
    "## Question 1 dfs Solution\n",
    "    O(M*N) Time CompleWity and Space compleWity is the dimensions of the matriW O(M*N)\n",
    "   **change after q1 and q2 complete to do same if we dont know dim of the mat after get it down first**"
   ]
  },
  {
   "cell_type": "code",
   "execution_count": 12,
   "id": "52e0ce00",
   "metadata": {},
   "outputs": [
    {
     "name": "stdout",
     "output_type": "stream",
     "text": [
      "[2, 2, 1, 3, 3]\n",
      "[2, 1, 3, 3, 1]\n",
      "[1, 3, 3, 1, 4]\n",
      "[5, 1, 3, 1, 1]\n"
     ]
    }
   ],
   "source": [
    "row = [0, 0, 1, -1 ]\n",
    "col = [1, -1, 0, 0 ]\n",
    "\n",
    "def isSafe(mat,W,H,target):\n",
    "    return 0 <= W < len(mat) and 0 <= H < len(mat[0]) and mat[W][H] == target\n",
    "\n",
    "        \n",
    "def floodfill(mat,W,H,new):\n",
    "    # base \n",
    "    if not mat or not len(mat):\n",
    "        return\n",
    "    \n",
    "    target = mat[W][H]\n",
    "    \n",
    "    if target == new:\n",
    "        return\n",
    "    \n",
    "    mat[W][H]= new\n",
    "        \n",
    "    for k in range(len(row)):\n",
    "        if isSafe(mat, W + row[k], H + col[k], target):\n",
    "            floodfill(mat, W + row[k], H + col[k], new)\n",
    "            \n",
    "if __name__ == '__main__':\n",
    "    mat = [\n",
    "       [0,0,1,0,0],\n",
    "       [0,1,0,0,1],\n",
    "       [1,0,0,1,0],\n",
    "       [0,1,0,1,1]\n",
    "    ]\n",
    "\n",
    "    floodfill(mat, W = 0 , H = 0 , new = 2)\n",
    "    floodfill(mat, W = 0 , H = 4, new = 3)\n",
    "    floodfill(mat, W=2, H=4, new = 4)\n",
    "    floodfill(mat, W = 3, H = 0, new = 5)\n",
    "        \n",
    "    for r in mat:\n",
    "        print(r)"
   ]
  },
  {
   "cell_type": "code",
   "execution_count": 9,
   "id": "beaeff5f",
   "metadata": {},
   "outputs": [],
   "source": [
    "# if the value is odd then change the replacement value and if even leave the matrix the way it is!!\n",
    "#value of replacement not in mat and is connected based on the direction it is given"
   ]
  },
  {
   "cell_type": "markdown",
   "id": "ce5862d2",
   "metadata": {},
   "source": [
    "## Question 1 bfs Solution\n",
    "    O(M*N) Time Complexity and Space complexity is the dimensions of the matrix O(M*N)\n",
    "   **change after q1 and q2 complete to do same if we dont know dim of the mat after get it down first**"
   ]
  },
  {
   "cell_type": "code",
   "execution_count": 2,
   "id": "74fe46ed",
   "metadata": {},
   "outputs": [
    {
     "name": "stdout",
     "output_type": "stream",
     "text": [
      "[2, 2, 1, 3, 3]\n",
      "[2, 1, 3, 3, 1]\n",
      "[1, 3, 3, 1, 4]\n",
      "[5, 1, 3, 1, 1]\n"
     ]
    }
   ],
   "source": [
    "# BFS approach:\n",
    "from queue import Queue\n",
    "\n",
    "def floodfill(mat, W, H, replacement):\n",
    "    n = len(mat)\n",
    "    m = len(mat[0])\n",
    "    old = mat[W][H]\n",
    "    if old == replacement:\n",
    "        return\n",
    "    queue = Queue()\n",
    "    queue.put((W, H))\n",
    "    while not queue.empty():\n",
    "        W, H = queue.get()\n",
    "        if W < 0 or W >= n or H < 0 or H >= m or mat[W][H] != old:\n",
    "            continue\n",
    "        else:\n",
    "            mat[W][H] = replacement\n",
    "            queue.put((W+1, H))\n",
    "            queue.put((W-1, H))\n",
    "            queue.put((W, H+1))\n",
    "            queue.put((W, H-1))\n",
    "\n",
    "if __name__ == '__main__':\n",
    "     \n",
    "    mat = [\n",
    "       [0,0,1,0,0],\n",
    "       [0,1,0,0,1],\n",
    "       [1,0,0,1,0],\n",
    "       [0,1,0,1,1]\n",
    "    ]\n",
    "    \n",
    "    new = 6 \n",
    "    \n",
    "    floodfill(mat, W = 0 , H = 0 , replacement = 2)\n",
    "    floodfill(mat, W = 0 , H = 4, replacement = 3)\n",
    "    floodfill(mat, W=2, H=4, replacement = 4)\n",
    "    floodfill(mat, W = 3, H = 0, replacement = 5)\n",
    "\n",
    "    # print the image \n",
    "    for r in mat:\n",
    "        print(r)"
   ]
  },
  {
   "cell_type": "markdown",
   "id": "46e4d401",
   "metadata": {},
   "source": [
    "## Question 2 using dfs code\n",
    "    O(M*N) Time Complexity and Space complexity is the dimensions of the matrix O(M*N)\n",
    "    **Not the best solution as it requires multiple function calls**"
   ]
  },
  {
   "cell_type": "code",
   "execution_count": 4,
   "id": "c3b52188",
   "metadata": {},
   "outputs": [
    {
     "name": "stdout",
     "output_type": "stream",
     "text": [
      "[2, 2, 1, 6, 6]\n",
      "[2, 1, 6, 6, 1]\n",
      "[1, 6, 6, 1, 4]\n",
      "[6, 6, 6, 1, 1]\n"
     ]
    }
   ],
   "source": [
    "row = [0, 0, 1, -1 ]\n",
    "col = [1, -1, 0, 0 ]\n",
    "\n",
    "def isSafe(mat,W,H,target):\n",
    "    return 0 <= W < len(mat) and 0 <= H < len(mat[0]) and mat[W][H] == target\n",
    "\n",
    "        \n",
    "def floodfill(mat,W,H,new):\n",
    "    \n",
    "    # base case\n",
    "    if not mat or not len(mat):\n",
    "        return\n",
    "    \n",
    "    target = mat[W][H]\n",
    "    \n",
    "    if target == new:\n",
    "        return\n",
    "    \n",
    "    mat[W][H]= new\n",
    "        \n",
    "    for k in range(len(row)):\n",
    "        if isSafe(mat, W + row[k], H + col[k], target):\n",
    "            floodfill(mat, W + row[k], H + col[k], new)\n",
    "            if new% 2 == 1 or target != new and mat[W][H] <= 1 :\n",
    "                    floodfill(mat, W + row[k], H + col[k], relabel)\n",
    "           \n",
    "if __name__ == '__main__':\n",
    " \n",
    "    mat = [\n",
    "       [0,0,1,0,0],\n",
    "       [0,1,0,0,1],\n",
    "       [1,0,0,1,0],\n",
    "       [0,1,0,1,1]\n",
    "    ]\n",
    "    \n",
    "    relabel = 6 \n",
    "    \n",
    "    floodfill(mat, W = 0 , H = 0 , new = 2)\n",
    "    floodfill(mat, W = 0 , H = 4, new = 3)\n",
    "    floodfill(mat, W=2, H=4, new = 4)\n",
    "    floodfill(mat, W = 3, H = 0, new = 5)\n",
    "    floodfill(mat, W = 3, H = 0, new = relabel)\n",
    "    floodfill(mat, W = 3, H = 1, new = relabel)\n",
    " \n",
    "    for r in mat:\n",
    "        print(r)\n",
    "        "
   ]
  }
 ],
 "metadata": {
  "kernelspec": {
   "display_name": "Python 3 (ipykernel)",
   "language": "python",
   "name": "python3"
  },
  "language_info": {
   "codemirror_mode": {
    "name": "ipython",
    "version": 3
   },
   "file_extension": ".py",
   "mimetype": "text/x-python",
   "name": "python",
   "nbconvert_exporter": "python",
   "pygments_lexer": "ipython3",
   "version": "3.8.3"
  }
 },
 "nbformat": 4,
 "nbformat_minor": 5
}
